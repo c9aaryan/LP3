{
 "cells": [
  {
   "cell_type": "code",
   "execution_count": 1,
   "metadata": {},
   "outputs": [],
   "source": [
    "from PIL import Image\n",
    "from PIL.ExifTags import TAGS"
   ]
  },
  {
   "cell_type": "code",
   "execution_count": 2,
   "metadata": {},
   "outputs": [],
   "source": [
    "# path to the image or video\n",
    "imagename =\"C:/AARYAN/Canon_40D.jpg\"\n",
    "\n",
    "# read the image data using PIL\n",
    "image = Image.open(imagename)"
   ]
  },
  {
   "cell_type": "code",
   "execution_count": 3,
   "metadata": {},
   "outputs": [
    {
     "name": "stdout",
     "output_type": "stream",
     "text": [
      "Filename                 : C:/AARYAN/Canon_40D.jpg\n",
      "Image Size               : (100, 68)\n",
      "Image Height             : 68\n",
      "Image Width              : 100\n",
      "Image Format             : JPEG\n",
      "Image Mode               : RGB\n",
      "Image is Animated        : False\n",
      "Frames in Image          : 1\n"
     ]
    }
   ],
   "source": [
    "# extract other basic metadata\n",
    "info_dict = {\n",
    "    \"Filename\": image.filename,\n",
    "    \"Image Size\": image.size,\n",
    "    \"Image Height\": image.height,\n",
    "    \"Image Width\": image.width,\n",
    "    \"Image Format\": image.format,\n",
    "    \"Image Mode\": image.mode,\n",
    "    \"Image is Animated\": getattr(image, \"is_animated\", False),\n",
    "    \"Frames in Image\": getattr(image, \"n_frames\", 1)\n",
    "}\n",
    "\n",
    "for label,value in info_dict.items():\n",
    "    print(f\"{label:25}: {value}\")"
   ]
  },
  {
   "cell_type": "code",
   "execution_count": 4,
   "metadata": {},
   "outputs": [],
   "source": [
    "# extract EXIF data\n",
    "exifdata = image.getexif()"
   ]
  },
  {
   "cell_type": "code",
   "execution_count": 5,
   "metadata": {},
   "outputs": [
    {
     "name": "stdout",
     "output_type": "stream",
     "text": [
      "ExifVersion              : 0221\n",
      "ComponentsConfiguration  : \u0001\u0002\u0003\u0000\n",
      "ShutterSpeedValue        : (483328, 65536)\n",
      "DateTimeOriginal         : 2008:05:30 15:56:01\n",
      "DateTimeDigitized        : 2008:05:30 15:56:01\n",
      "ApertureValue            : (368640, 65536)\n",
      "ExposureBiasValue        : (0, 1)\n",
      "MeteringMode             : 5\n",
      "ColorSpace               : 1\n",
      "Flash                    : 9\n",
      "FocalLength              : (135, 1)\n",
      "ExifImageWidth           : 100\n",
      "ExifInteroperabilityOffset: 948\n",
      "SceneCaptureType         : 0\n",
      "FocalPlaneXResolution    : (3888000, 876)\n",
      "FocalPlaneYResolution    : (2592000, 583)\n",
      "ExifImageHeight          : 68\n",
      "FocalPlaneResolutionUnit : 2\n",
      "Make                     : Canon\n",
      "Model                    : Canon EOS 40D\n",
      "Orientation              : 1\n",
      "YCbCrPositioning         : 2\n",
      "XResolution              : (72, 1)\n",
      "YResolution              : (72, 1)\n",
      "ExposureProgram          : 1\n",
      "GPSInfo                  : {0: b'\\x02\\x02\\x00\\x00'}\n",
      "CustomRendered           : 0\n",
      "ISOSpeedRatings          : 100\n",
      "ResolutionUnit           : 2\n",
      "ExposureMode             : 1\n",
      "FlashPixVersion          : 0100\n",
      "WhiteBalance             : 0\n",
      "Software                 : GIMP 2.4.5\n",
      "DateTime                 : 2008:07:31 10:38:11\n",
      "ExifOffset               : 214\n",
      "UserComment              : \u0000\u0000\u0000\u0000\u0000\u0000\u0000\u0000\u0000\u0000\u0000\u0000\u0000\u0000\u0000\u0000\u0000\u0000\u0000\u0000\u0000\u0000\u0000\u0000\u0000\u0000\u0000\u0000\u0000\u0000\u0000\u0000\u0000\u0000\u0000\u0000\u0000\u0000\u0000\u0000\u0000\u0000\u0000\u0000\u0000\u0000\u0000\u0000\u0000\u0000\u0000\u0000\u0000\u0000\u0000\u0000\u0000\u0000\u0000\u0000\u0000\u0000\u0000\u0000\u0000\u0000\u0000\u0000\u0000\u0000\u0000\u0000\u0000\u0000\u0000\u0000\u0000\u0000\u0000\u0000\u0000\u0000\u0000\u0000\u0000\u0000\u0000\u0000\u0000\u0000\u0000\u0000\u0000\u0000\u0000\u0000\u0000\u0000\u0000\u0000\u0000\u0000\u0000\u0000\u0000\u0000\u0000\u0000\u0000\u0000\u0000\u0000\u0000\u0000\u0000\u0000\u0000\u0000\u0000\u0000\u0000\u0000\u0000\u0000\u0000\u0000\u0000\u0000\u0000\u0000\u0000\u0000\u0000\u0000\u0000\u0000\u0000\u0000\u0000\u0000\u0000\u0000\u0000\u0000\u0000\u0000\u0000\u0000\u0000\u0000\u0000\u0000\u0000\u0000\u0000\u0000\u0000\u0000\u0000\u0000\u0000\u0000\u0000\u0000\u0000\u0000\u0000\u0000\u0000\u0000\u0000\u0000\u0000\u0000\u0000\u0000\u0000\u0000\u0000\u0000\u0000\u0000\u0000\u0000\u0000\u0000\u0000\u0000\u0000\u0000\u0000\u0000\u0000\u0000\u0000\u0000\u0000\u0000\u0000\u0000\u0000\u0000\u0000\u0000\u0000\u0000\u0000\u0000\u0000\u0000\u0000\u0000\u0000\u0000\u0000\u0000\u0000\u0000\u0000\u0000\u0000\u0000\u0000\u0000\u0000\u0000\u0000\u0000\u0000\u0000\u0000\u0000\u0000\u0000\u0000\u0000\u0000\u0000\u0000\u0000\u0000\u0000\u0000\u0000\u0000\u0000\u0000\u0000\u0000\u0000\u0000\u0000\u0000\u0000\u0000\u0000\u0000\u0000\u0000\u0000\u0000\u0000\u0000\u0000\n",
      "SubsecTime               : 00\n",
      "SubsecTimeOriginal       : 00\n",
      "SubsecTimeDigitized      : 00\n",
      "ExposureTime             : (1, 160)\n",
      "FNumber                  : (71, 10)\n"
     ]
    }
   ],
   "source": [
    "# iterating over all EXIF data fields\n",
    "for tag_id in exifdata:\n",
    "    # get the tag name, instead of human unreadable tag id\n",
    "    tag = TAGS.get(tag_id, tag_id)\n",
    "    data = exifdata.get(tag_id)\n",
    "    # decode bytes \n",
    "    if isinstance(data, bytes):\n",
    "        data = data.decode()\n",
    "    print(f\"{tag:25}: {data}\")"
   ]
  },
  {
   "cell_type": "code",
   "execution_count": null,
   "metadata": {},
   "outputs": [],
   "source": []
  }
 ],
 "metadata": {
  "kernelspec": {
   "display_name": "Python 3",
   "language": "python",
   "name": "python3"
  },
  "language_info": {
   "codemirror_mode": {
    "name": "ipython",
    "version": 3
   },
   "file_extension": ".py",
   "mimetype": "text/x-python",
   "name": "python",
   "nbconvert_exporter": "python",
   "pygments_lexer": "ipython3",
   "version": "3.7.6"
  }
 },
 "nbformat": 4,
 "nbformat_minor": 4
}
